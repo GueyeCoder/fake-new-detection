{
 "cells": [
  {
   "cell_type": "code",
   "execution_count": 3,
   "id": "a0dc65a2-3d23-4163-9c23-09311b578542",
   "metadata": {},
   "outputs": [],
   "source": [
    "import pandas as pd\n",
    "import numpy as np"
   ]
  },
  {
   "cell_type": "code",
   "execution_count": 10,
   "id": "21026580-ac3f-45c9-8434-6ac8d99373bd",
   "metadata": {},
   "outputs": [
    {
     "ename": "SyntaxError",
     "evalue": "unterminated string literal (detected at line 1) (3508766182.py, line 1)",
     "output_type": "error",
     "traceback": [
      "\u001b[0;36m  Cell \u001b[0;32mIn[10], line 1\u001b[0;36m\u001b[0m\n\u001b[0;31m    true = pd.read_csv('https://raw.githubusercontent.com/ChitranjanUpadhayay/ML_Projects/refs/heads/main/Datasets/Fake%20News/Fake.csv)\u001b[0m\n\u001b[0m                       ^\u001b[0m\n\u001b[0;31mSyntaxError\u001b[0m\u001b[0;31m:\u001b[0m unterminated string literal (detected at line 1)\n"
     ]
    }
   ],
   "source": [
    "true = pd.read_csv('https://raw.githubusercontent.com/ChitranjanUpadhayay/ML_Projects/refs/heads/main/Datasets/Fake%20News/Fake.csv')\n",
    "fake"
   ]
  },
  {
   "cell_type": "code",
   "execution_count": null,
   "id": "e66b9431-5a6c-4c70-baca-a50baf9d9977",
   "metadata": {},
   "outputs": [],
   "source": []
  }
 ],
 "metadata": {
  "kernelspec": {
   "display_name": "Python (base)",
   "language": "python",
   "name": "base"
  },
  "language_info": {
   "codemirror_mode": {
    "name": "ipython",
    "version": 3
   },
   "file_extension": ".py",
   "mimetype": "text/x-python",
   "name": "python",
   "nbconvert_exporter": "python",
   "pygments_lexer": "ipython3",
   "version": "3.12.2"
  }
 },
 "nbformat": 4,
 "nbformat_minor": 5
}
